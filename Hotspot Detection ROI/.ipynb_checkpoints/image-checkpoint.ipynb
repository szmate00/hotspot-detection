{
 "cells": [
  {
   "cell_type": "code",
   "execution_count": null,
   "metadata": {},
   "outputs": [],
   "source": [
    "import matplotlib.patches as patches\n",
    "from matplotlib import pyplot as plt\n",
    "import numpy as np\n",
    "import h5py\n",
    "\n",
    "\n",
    "# filename\n",
    "File = 'AEQ31_edi_20181002_028_131451'\n",
    "\n",
    "\n",
    "with h5py.File(f'C:/TDK/adatok/{File}.h5', 'r') as hdf:\n",
    "    roip = hdf.get('ROIP')\n",
    "    roip1 = roip.get('ROIP1')\n",
    "    roip1_data = roip1.get('ROIP1Data')\n",
    "    \n",
    "    #reading out the image\n",
    "    image = np.array(roip1_data[:1024, :1280, 780])\n",
    "        \n",
    "    plt.figure(figsize=(32,25.6))\n",
    "    plt.imshow(image, vmin=0, vmax=4095, cmap='gray')\n",
    "    plt.axis('off')\n",
    "    \n",
    "    # adding rectangles to represent rois\n",
    "    ax = plt.gca()\n",
    "    rect1 = patches.Rectangle((465,90),105,150,linewidth=1,edgecolor='r',facecolor='none', label='size of ROI1: 85x130')\n",
    "    ax.add_patch(rect1)\n",
    "    \n",
    "    rect2 = patches.Rectangle((440,65),155,200,linewidth=1,edgecolor='g',facecolor='none', label='size of ROI2: 135x180')\n",
    "    ax.add_patch(rect2)\n",
    "    \n",
    "    # adding labels\n",
    "    plt.legend(loc='upper right', fontsize=25)\n",
    "    \n",
    "    # saving image\n",
    "    #plt.savefig('rois.png', bbox_inches = 'tight', pad_inches = 0, dpi=100)"
   ]
  },
  {
   "cell_type": "code",
   "execution_count": 9,
   "metadata": {},
   "outputs": [],
   "source": [
    "image_faulty = image"
   ]
  },
  {
   "cell_type": "code",
   "execution_count": null,
   "metadata": {},
   "outputs": [],
   "source": []
  }
 ],
 "metadata": {
  "kernelspec": {
   "display_name": "Python 3",
   "language": "python",
   "name": "python3"
  },
  "language_info": {
   "codemirror_mode": {
    "name": "ipython",
    "version": 3
   },
   "file_extension": ".py",
   "mimetype": "text/x-python",
   "name": "python",
   "nbconvert_exporter": "python",
   "pygments_lexer": "ipython3",
   "version": "3.7.6"
  }
 },
 "nbformat": 4,
 "nbformat_minor": 4
}
